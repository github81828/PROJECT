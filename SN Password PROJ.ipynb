{
 "cells": [
  {
   "cell_type": "markdown",
   "id": "6c3d467f-800c-414c-abeb-12eed5d97a58",
   "metadata": {},
   "source": [
    "# Password Generator in Python"
   ]
  },
  {
   "cell_type": "raw",
   "id": "ac5690e0-a239-428d-b36b-8af2b8ec3f35",
   "metadata": {},
   "source": [
    "Step 1: Importing the Required Modules\n",
    "Step 2: Concatenating the constants\n",
    "Step-3: Asking the user to tell the length of a password \n",
    "Step-4 Generating the password\n",
    "Step 5: Printing the password\n",
    "Putting everything together\n",
    "For generating multiple passwords"
   ]
  },
  {
   "cell_type": "code",
   "execution_count": 2,
   "id": "a68e4c1a-501a-45fe-9486-3e9bbb39e953",
   "metadata": {},
   "outputs": [],
   "source": [
    "#Importing the Required Modules\n",
    "import random\n",
    "import string"
   ]
  },
  {
   "cell_type": "code",
   "execution_count": 3,
   "id": "f7d59a0b-434c-4804-9d30-ea2ea72f91d2",
   "metadata": {},
   "outputs": [],
   "source": [
    "#Concatenating the constants\n",
    "\n",
    "#We need set of characters from which we want to create the password. We can do this by concatenating the constants from the string module:\n",
    "\n",
    "all_characters = string.ascii_letters + string.digits + string.punctuation"
   ]
  },
  {
   "cell_type": "code",
   "execution_count": 4,
   "id": "fefc5452-8ede-4a64-bdc9-87f0ca3c05ab",
   "metadata": {},
   "outputs": [
    {
     "name": "stdin",
     "output_type": "stream",
     "text": [
      "Enter the length of the password:  8\n"
     ]
    }
   ],
   "source": [
    "#Asking the user to tell the length of a password \n",
    "length = int(input(\"Enter the length of the password: \"))"
   ]
  },
  {
   "cell_type": "code",
   "execution_count": 5,
   "id": "2545f70e-d5cd-4d2c-96f2-1e2dbac4da06",
   "metadata": {},
   "outputs": [],
   "source": [
    "#Generating the password\n",
    "password = ''.join(random.choices(all_characters, k=length))"
   ]
  },
  {
   "cell_type": "code",
   "execution_count": 6,
   "id": "3239389d-4d39-4b44-8178-080a843af937",
   "metadata": {},
   "outputs": [
    {
     "name": "stdout",
     "output_type": "stream",
     "text": [
      "Your password is: W`R=-x?Q\n"
     ]
    }
   ],
   "source": [
    "#Printing the password\n",
    "print(\"Your password is:\", password)\n"
   ]
  },
  {
   "cell_type": "code",
   "execution_count": 12,
   "id": "08a7579c-f3ed-4077-9dcd-441f3b485f54",
   "metadata": {},
   "outputs": [
    {
     "name": "stdin",
     "output_type": "stream",
     "text": [
      "Enter the length of the password:  5\n"
     ]
    },
    {
     "name": "stdout",
     "output_type": "stream",
     "text": [
      "Your password is: #i+WS\n"
     ]
    }
   ],
   "source": [
    "# import the string and random modules\n",
    "import string\n",
    "import random\n",
    "\n",
    "# define the characters that can be used in the password\n",
    "all_characters = string.ascii_letters + string.digits + string.punctuation\n",
    "\n",
    "# ask the user for the desired length of the password\n",
    "length = int(input(\"Enter the length of the password: \"))\n",
    "\n",
    "# generate a password using randomly chosen characters\n",
    "# using the 'choices' function from the random module\n",
    "# and joining the resulting characters into a string\n",
    "password = ''.join(random.choices(all_characters, k=length))\n",
    "\n",
    "# display the generated password to the user\n",
    "print(\"Your password is:\", password)"
   ]
  },
  {
   "cell_type": "markdown",
   "id": "1c2a5cbb-2753-4a85-ba3a-0afb3b38a4bf",
   "metadata": {},
   "source": [
    "# For generating multiple passwords"
   ]
  },
  {
   "cell_type": "code",
   "execution_count": 14,
   "id": "914e7092-c9be-4280-891c-52dcd8523e7d",
   "metadata": {},
   "outputs": [],
   "source": [
    "import random\n",
    "import string\n",
    "\n",
    "def generate_password(length, count):\n",
    "    passwords = []\n",
    "    for i in range(count):\n",
    "        password = ''.join(random.choice(string.ascii_letters + string.digits + string.punctuation) for _ in range(length))\n",
    "        passwords.append(password)\n",
    "    return passwords"
   ]
  },
  {
   "cell_type": "code",
   "execution_count": 15,
   "id": "a8ac1dc5-73fb-4713-84c9-ed5cfa9f17f3",
   "metadata": {},
   "outputs": [
    {
     "data": {
      "text/plain": [
       "<module 'random' from 'C:\\\\Users\\\\admin\\\\anaconda3\\\\Lib\\\\random.py'>"
      ]
     },
     "execution_count": 15,
     "metadata": {},
     "output_type": "execute_result"
    }
   ],
   "source": [
    "random"
   ]
  },
  {
   "cell_type": "code",
   "execution_count": 16,
   "id": "28709149-7247-45be-b3f4-b3e745302355",
   "metadata": {},
   "outputs": [
    {
     "data": {
      "text/plain": [
       "<module 'string' from 'C:\\\\Users\\\\admin\\\\anaconda3\\\\Lib\\\\string.py'>"
      ]
     },
     "execution_count": 16,
     "metadata": {},
     "output_type": "execute_result"
    }
   ],
   "source": [
    "string"
   ]
  },
  {
   "cell_type": "code",
   "execution_count": 19,
   "id": "dcc0cade-511d-45d3-87ed-b509454d9476",
   "metadata": {},
   "outputs": [
    {
     "name": "stdout",
     "output_type": "stream",
     "text": [
      "['fJjOg<[N2T', 'SYp<z!!NK~']\n"
     ]
    }
   ],
   "source": [
    "passwords = generate_password(10, 2)\n",
    "print(passwords)"
   ]
  },
  {
   "cell_type": "code",
   "execution_count": null,
   "id": "d43cabc5-0e94-4886-906a-3fee48a23fa4",
   "metadata": {},
   "outputs": [],
   "source": [
    "\n"
   ]
  }
 ],
 "metadata": {
  "kernelspec": {
   "display_name": "Python 3 (ipykernel)",
   "language": "python",
   "name": "python3"
  },
  "language_info": {
   "codemirror_mode": {
    "name": "ipython",
    "version": 3
   },
   "file_extension": ".py",
   "mimetype": "text/x-python",
   "name": "python",
   "nbconvert_exporter": "python",
   "pygments_lexer": "ipython3",
   "version": "3.11.7"
  }
 },
 "nbformat": 4,
 "nbformat_minor": 5
}
